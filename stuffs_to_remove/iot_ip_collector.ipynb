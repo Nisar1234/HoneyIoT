{
 "cells": [
  {
   "cell_type": "code",
   "execution_count": 3,
   "metadata": {},
   "outputs": [
    {
     "ename": "ModuleNotFoundError",
     "evalue": "No module named 'netaddr'",
     "output_type": "error",
     "traceback": [
      "\u001b[1;31m---------------------------------------------------------------------------\u001b[0m",
      "\u001b[1;31mModuleNotFoundError\u001b[0m                       Traceback (most recent call last)",
      "Cell \u001b[1;32mIn[3], line 5\u001b[0m\n\u001b[0;32m      3\u001b[0m \u001b[38;5;28;01mfrom\u001b[39;00m \u001b[38;5;21;01mrandom\u001b[39;00m \u001b[38;5;28;01mimport\u001b[39;00m getrandbits\n\u001b[0;32m      4\u001b[0m \u001b[38;5;28;01mfrom\u001b[39;00m \u001b[38;5;21;01mipaddress\u001b[39;00m \u001b[38;5;28;01mimport\u001b[39;00m IPv4Address\n\u001b[1;32m----> 5\u001b[0m \u001b[38;5;28;01mfrom\u001b[39;00m \u001b[38;5;21;01mnetaddr\u001b[39;00m \u001b[38;5;28;01mimport\u001b[39;00m IPNetwork, IPAddress\n\u001b[0;32m      6\u001b[0m \u001b[38;5;28;01mimport\u001b[39;00m \u001b[38;5;21;01mthreading\u001b[39;00m\n\u001b[0;32m      7\u001b[0m \u001b[38;5;28;01mimport\u001b[39;00m \u001b[38;5;21;01mrequests\u001b[39;00m\n",
      "\u001b[1;31mModuleNotFoundError\u001b[0m: No module named 'netaddr'"
     ]
    }
   ],
   "source": [
    "import socket\n",
    "from datetime import datetime\n",
    "from random import getrandbits\n",
    "from ipaddress import IPv4Address\n",
    "from netaddr import IPNetwork, IPAddress\n",
    "import threading\n",
    "import requests\n",
    "from urllib.request import urlopen\n",
    "import json"
   ]
  },
  {
   "cell_type": "code",
   "execution_count": 2,
   "metadata": {},
   "outputs": [
    {
     "name": "stdout",
     "output_type": "stream",
     "text": [
      "Don't Mess With Network List from Mirai:\n",
      "127.0.0.0/8               # Loopback\n",
      "0.0.0.0/8                 # Invalid address space\n",
      "3.0.0.0/8                 # General Electric (GE)\n",
      "15.0.0.0/7                # Hewlett-Packard (HP)\n",
      "56.0.0.0/8                # US Postal Service\n",
      "10.0.0.0/8                # Internal network\n",
      "192.168.0.0/16            # Internal network\n",
      "172.16.0.0/14             # Internal network\n",
      "100.64.0.0/10             # IANA NAT reserved\n",
      "169.254.0.0/16            # IANA NAT reserved\n",
      "198.18.0.0/15             # IANA Special use\n",
      "224.0.0.0/4               # Multicast\n",
      "6.0.0.0/7                 # Department of Defense \n",
      "11.0.0.0/8                # Department of Defense\n",
      "21.0.0.0/8                # Department of Defense\n",
      "22.0.0.0/8                # Department of Defense\n",
      "26.0.0.0/8                # Department of Defense\n",
      "28.0.0.0/7                # Department of Defense\n",
      "30.0.0.0/8                # Department of Defense\n",
      "33.0.0.0/8                # Department of Defense\n",
      "55.0.0.0/8                # Department of Defense\n",
      "214.0.0.0/7               # Department of Defense\n"
     ]
    }
   ],
   "source": [
    "print('''Don't Mess With Network List from Mirai:\n",
    "127.0.0.0/8               # Loopback\n",
    "0.0.0.0/8                 # Invalid address space\n",
    "3.0.0.0/8                 # General Electric (GE)\n",
    "15.0.0.0/7                # Hewlett-Packard (HP)\n",
    "56.0.0.0/8                # US Postal Service\n",
    "10.0.0.0/8                # Internal network\n",
    "192.168.0.0/16            # Internal network\n",
    "172.16.0.0/14             # Internal network\n",
    "100.64.0.0/10             # IANA NAT reserved\n",
    "169.254.0.0/16            # IANA NAT reserved\n",
    "198.18.0.0/15             # IANA Special use\n",
    "224.0.0.0/4               # Multicast\n",
    "6.0.0.0/7                 # Department of Defense \n",
    "11.0.0.0/8                # Department of Defense\n",
    "21.0.0.0/8                # Department of Defense\n",
    "22.0.0.0/8                # Department of Defense\n",
    "26.0.0.0/8                # Department of Defense\n",
    "28.0.0.0/7                # Department of Defense\n",
    "30.0.0.0/8                # Department of Defense\n",
    "33.0.0.0/8                # Department of Defense\n",
    "55.0.0.0/8                # Department of Defense\n",
    "214.0.0.0/7               # Department of Defense''')"
   ]
  },
  {
   "cell_type": "code",
   "execution_count": 3,
   "metadata": {
    "collapsed": true
   },
   "outputs": [],
   "source": [
    "dontMessWithList = ['127.0.0.0/8', '0.0.0.0/8', '3.0.0.0/8', '15.0.0.0/7', '56.0.0.0/8', '10.0.0.0/8', '192.168.0.0/16', '172.16.0.0/14', '100.64.0.0/10', '169.254.0.0/16', '198.18.0.0/15', '224.0.0.0/4', '6.0.0.0/7', '11.0.0.0/8', '21.0.0.0/8', '22.0.0.0/8', '26.0.0.0/8', '28.0.0.0/7', '30.0.0.0/8', '33.0.0.0/8', '55.0.0.0/8', '214.0.0.0/7']"
   ]
  },
  {
   "cell_type": "code",
   "execution_count": 4,
   "metadata": {
    "collapsed": true
   },
   "outputs": [],
   "source": [
    "def generate_rand_ip():\n",
    "    ip_in_bits = getrandbits(32)\n",
    "    ip_addr = IPv4Address(ip_in_bits)\n",
    "    rand_ip_addr = str(ip_addr)\n",
    "    return rand_ip_addr"
   ]
  },
  {
   "cell_type": "code",
   "execution_count": 5,
   "metadata": {
    "collapsed": true
   },
   "outputs": [],
   "source": [
    "def check_ip(ip_addr):\n",
    "    for network in dontMessWithList:\n",
    "        if IPAddress(ip_addr) in IPNetwork(network):\n",
    "            return False\n",
    "    return True"
   ]
  },
  {
   "cell_type": "code",
   "execution_count": 6,
   "metadata": {},
   "outputs": [
    {
     "name": "stdout",
     "output_type": "stream",
     "text": [
      "Some standard ports: \n",
      "TR-069:\t7547\n",
      "UPnP:\t1900\n",
      "XMPP:\t5222\n",
      "CoAP:\t5683\n",
      "MQTT:\t1883/8883\n"
     ]
    }
   ],
   "source": [
    "print('Some standard ports: \\nTR-069:\\t7547\\nUPnP:\\t1900\\nXMPP:\\t5222\\nCoAP:\\t5683\\nMQTT:\\t1883/8883')"
   ]
  },
  {
   "cell_type": "code",
   "execution_count": 7,
   "metadata": {
    "collapsed": true
   },
   "outputs": [],
   "source": [
    "def TCP_connect(ip, port_number, delay, output):\n",
    "    TCPsock = socket.socket(socket.AF_INET, socket.SOCK_STREAM)\n",
    "    TCPsock.setsockopt(socket.SOL_SOCKET, socket.SO_REUSEADDR, 1)\n",
    "    TCPsock.settimeout(delay)\n",
    "    try:\n",
    "        TCPsock.connect((ip, port_number))\n",
    "        output[port_number] = 'Listening'\n",
    "    except:\n",
    "        output[port_number] = ''\n",
    "\n",
    "\n",
    "def scan_ports(host_ip, delay):\n",
    "\n",
    "#     print(\"-\" * 60)\n",
    "#     print(\"Please wait, scanning remote host\", host_ip)\n",
    "#     print(\"-\" * 60)\n",
    "\n",
    "    t1 = datetime.now()\n",
    "\n",
    "    threads = []\n",
    "    output = {}\n",
    "    common_iot_ports = [21, 22, 23, 25, 80, 81, 82, 83, 84, 88, 137, 143, 443, 445, 554, 631, 1080, 1883, 1900, 2000, 2323, 4433, 4443, 4567, 5222, 5683, 7474, 7547, 8000, 8023, 8080, 8081, 8443, 8088, 8883, 8888, 9000, 9090, 9999, 10000, 37777, 49152]\n",
    "\n",
    "    for i in common_iot_ports:\n",
    "        t = threading.Thread(target=TCP_connect, args=(host_ip, i, delay, output))\n",
    "        threads.append(t)\n",
    "\n",
    "    for i in range(len(common_iot_ports)):\n",
    "        threads[i].start()\n",
    "    \n",
    "    for i in range(len(common_iot_ports)):\n",
    "        threads[i].join()\n",
    "    \n",
    "    total_listening = 0\n",
    "    ports_listening = []\n",
    "    for i in range(len(common_iot_ports)):\n",
    "        if output[common_iot_ports[i]] == 'Listening':\n",
    "            total_listening += 1\n",
    "            ports_listening.append(common_iot_ports[i])\n",
    "#             print(str(common_iot_ports[i]) + ': ' + output[common_iot_ports[i]])\n",
    "\n",
    "#     t2 = datetime.now()\n",
    "#     total =  t2 - t1\n",
    "#     print('Scanning completed in:', total)\n",
    "    if total_listening > 0:\n",
    "        print(\"IP:\", host_ip)\n",
    "        print(total_listening, ports_listening)\n",
    "    return total_listening, ports_listening"
   ]
  },
  {
   "cell_type": "code",
   "execution_count": 8,
   "metadata": {
    "collapsed": true
   },
   "outputs": [],
   "source": [
    "def check_if_phue_bulb(ip_addr, port):\n",
    "    url = 'http://' + ip_addr + ':' + str(port)\n",
    "    try:\n",
    "        r = requests.get(url, verify=False, timeout=2)\n",
    "        return r.headers\n",
    "        r = urlopen(url, timeout=3, verify=False)\n",
    "        string = r.read().decode('utf-8')\n",
    "        json_obj = json.loads(string)\n",
    "        return json_obj\n",
    "    except Exception as e:\n",
    "        return \"Empty json object\""
   ]
  },
  {
   "cell_type": "code",
   "execution_count": 9,
   "metadata": {
    "collapsed": true
   },
   "outputs": [],
   "source": [
    "import pickle\n",
    "\n",
    "def storeData(obj, filename):\n",
    "    pickleFile = open(filename, 'wb')\n",
    "    pickle.dump(obj, pickleFile)\n",
    "    pickleFile.close()\n",
    "    \n",
    "def loadData(filename):\n",
    "    pickleFile = open(filename, 'rb')\n",
    "    obj = pickle.load(pickleFile)\n",
    "    pickleFile.close()\n",
    "    return obj"
   ]
  },
  {
   "cell_type": "code",
   "execution_count": 12,
   "metadata": {
    "collapsed": true
   },
   "outputs": [],
   "source": [
    "# Every one of them is a set\n",
    "ips_checked = loadData(\"../addresses/ips_checked.dat\")\n",
    "hikvision_camera_addr = loadData(\"../addresses/hikvision_camera_addr.dat\")\n",
    "sonicWall_firewall_addr = loadData(\"../addresses/sonicWall_firewall_addr.dat\")\n",
    "netgear_router_addr = loadData(\"../addresses/netgear_router_addr.dat\")\n",
    "TR069_protocolDevice_addr = loadData(\"../addresses/TR069_protocolDevice_addr.dat\")\n",
    "lighttpd_protocolDevice_addr = loadData(\"../addresses/lighttpd_protocolDevice_addr.dat\")\n",
    "Huawei_router_addr = loadData(\"../addresses/Huawei_router_addr.dat\")\n",
    "kangle_addr = loadData(\"../addresses/kangle_addr.dat\")\n",
    "tplink_router_addr = loadData(\"../addresses/tplink_router_addr.dat\")\n",
    "app_web_server_addr = loadData(\"../addresses/app_web_server_addr.dat\")"
   ]
  },
  {
   "cell_type": "code",
   "execution_count": 13,
   "metadata": {
    "collapsed": true
   },
   "outputs": [
    {
     "name": "stdout",
     "output_type": "stream",
     "text": [
      "IP: 118.150.197.32\n",
      "1 [7547]\n",
      "{'Connection': 'close', 'Content-Type': 'text/html', 'Content-Length': '89'}\n",
      "{\"connection\": [\"Connection\", \"close\"], \"content-type\": [\"Content-Type\", \"text/html\"], \"content-length\": [\"Content-Length\", \"89\"]}\n",
      "IP: 172.80.30.169\n",
      "1 [80]\n",
      "{'Server': 'squid', 'Date': 'Tue, 26 Mar 2024 14:18:25 GMT', 'Content-Type': 'text/html', 'Last-Modified': 'Fri, 16 Jun 2023 20:28:13 GMT', 'Transfer-Encoding': 'chunked', 'Connection': 'keep-alive', 'Vary': 'Accept-Encoding', 'ETag': 'W/\"648cc5dd-a0\"', 'Content-Encoding': 'gzip'}\n",
      "{\"server\": [\"Server\", \"squid\"], \"date\": [\"Date\", \"Tue, 26 Mar 2024 14:18:25 GMT\"], \"content-type\": [\"Content-Type\", \"text/html\"], \"last-modified\": [\"Last-Modified\", \"Fri, 16 Jun 2023 20:28:13 GMT\"], \"transfer-encoding\": [\"Transfer-Encoding\", \"chunked\"], \"connection\": [\"Connection\", \"keep-alive\"], \"vary\": [\"Vary\", \"Accept-Encoding\"], \"etag\": [\"ETag\", \"W/\\\"648cc5dd-a0\\\"\"], \"content-encoding\": [\"Content-Encoding\", \"gzip\"]}\n",
      "IP: 154.201.134.26\n",
      "2 [80, 443]\n",
      "{'Date': 'Tue, 26 Mar 2024 14:19:12 GMT', 'Server': 'Apache', 'Upgrade': 'h2', 'Connection': 'Upgrade, close', 'Last-Modified': 'Wed, 26 Apr 2017 08:03:47 GMT', 'ETag': '\"52e-54e0d47a39ec0-gzip\"', 'Accept-Ranges': 'bytes', 'Vary': 'Accept-Encoding', 'Content-Encoding': 'gzip', 'Content-Length': '766', 'Content-Type': 'text/html'}\n",
      "{\"date\": [\"Date\", \"Tue, 26 Mar 2024 14:19:12 GMT\"], \"server\": [\"Server\", \"Apache\"], \"upgrade\": [\"Upgrade\", \"h2\"], \"connection\": [\"Connection\", \"Upgrade, close\"], \"last-modified\": [\"Last-Modified\", \"Wed, 26 Apr 2017 08:03:47 GMT\"], \"etag\": [\"ETag\", \"\\\"52e-54e0d47a39ec0-gzip\\\"\"], \"accept-ranges\": [\"Accept-Ranges\", \"bytes\"], \"vary\": [\"Vary\", \"Accept-Encoding\"], \"content-encoding\": [\"Content-Encoding\", \"gzip\"], \"content-length\": [\"Content-Length\", \"766\"], \"content-type\": [\"Content-Type\", \"text/html\"]}\n",
      "{'Date': 'Tue, 26 Mar 2024 14:19:12 GMT', 'Server': 'Apache', 'Content-Length': '426', 'Connection': 'close', 'Content-Type': 'text/html; charset=iso-8859-1'}\n",
      "{\"date\": [\"Date\", \"Tue, 26 Mar 2024 14:19:12 GMT\"], \"server\": [\"Server\", \"Apache\"], \"content-length\": [\"Content-Length\", \"426\"], \"connection\": [\"Connection\", \"close\"], \"content-type\": [\"Content-Type\", \"text/html; charset=iso-8859-1\"]}\n",
      "IP: 31.14.23.13\n",
      "4 [21, 80, 143, 443]\n"
     ]
    },
    {
     "name": "stderr",
     "output_type": "stream",
     "text": [
      "C:\\Users\\Brunda\\AppData\\Roaming\\Python\\Python310\\site-packages\\urllib3\\connectionpool.py:1045: InsecureRequestWarning: Unverified HTTPS request is being made to host '31.14.23.13'. Adding certificate verification is strongly advised. See: https://urllib3.readthedocs.io/en/1.26.x/advanced-usage.html#ssl-warnings\n",
      "  warnings.warn(\n",
      "C:\\Users\\Brunda\\AppData\\Roaming\\Python\\Python310\\site-packages\\urllib3\\connectionpool.py:1045: InsecureRequestWarning: Unverified HTTPS request is being made to host 'mimp.ro'. Adding certificate verification is strongly advised. See: https://urllib3.readthedocs.io/en/1.26.x/advanced-usage.html#ssl-warnings\n",
      "  warnings.warn(\n"
     ]
    },
    {
     "name": "stdout",
     "output_type": "stream",
     "text": [
      "{'Connection': 'Keep-Alive', 'Keep-Alive': 'timeout=5, max=100', 'content-type': 'text/html; charset=UTF-8', 'link': '<https://mimp.ro/>; rel=shortlink', 'etag': '\"5118-1710951904;gz\"', 'x-litespeed-cache': 'hit', 'content-encoding': 'gzip', 'vary': 'Accept-Encoding', 'content-length': '26825', 'date': 'Tue, 26 Mar 2024 14:19:51 GMT', 'content-security-policy': 'upgrade-insecure-requests;', 'alt-svc': 'h3=\":443\"; ma=2592000, h3-29=\":443\"; ma=2592000, h3-Q050=\":443\"; ma=2592000, h3-Q046=\":443\"; ma=2592000, h3-Q043=\":443\"; ma=2592000, quic=\":443\"; ma=2592000; v=\"43,46\"'}\n",
      "{\"connection\": [\"Connection\", \"Keep-Alive\"], \"keep-alive\": [\"Keep-Alive\", \"timeout=5, max=100\"], \"content-type\": [\"content-type\", \"text/html; charset=UTF-8\"], \"link\": [\"link\", \"<https://mimp.ro/>; rel=shortlink\"], \"etag\": [\"etag\", \"\\\"5118-1710951904;gz\\\"\"], \"x-litespeed-cache\": [\"x-litespeed-cache\", \"hit\"], \"content-encoding\": [\"content-encoding\", \"gzip\"], \"vary\": [\"vary\", \"Accept-Encoding\"], \"content-length\": [\"content-length\", \"26825\"], \"date\": [\"date\", \"Tue, 26 Mar 2024 14:19:51 GMT\"], \"content-security-policy\": [\"content-security-policy\", \"upgrade-insecure-requests;\"], \"alt-svc\": [\"alt-svc\", \"h3=\\\":443\\\"; ma=2592000, h3-29=\\\":443\\\"; ma=2592000, h3-Q050=\\\":443\\\"; ma=2592000, h3-Q046=\\\":443\\\"; ma=2592000, h3-Q043=\\\":443\\\"; ma=2592000, quic=\\\":443\\\"; ma=2592000; v=\\\"43,46\\\"\"]}\n"
     ]
    },
    {
     "name": "stderr",
     "output_type": "stream",
     "text": [
      "C:\\Users\\Brunda\\AppData\\Roaming\\Python\\Python310\\site-packages\\urllib3\\connectionpool.py:1045: InsecureRequestWarning: Unverified HTTPS request is being made to host '31.14.23.13'. Adding certificate verification is strongly advised. See: https://urllib3.readthedocs.io/en/1.26.x/advanced-usage.html#ssl-warnings\n",
      "  warnings.warn(\n",
      "C:\\Users\\Brunda\\AppData\\Roaming\\Python\\Python310\\site-packages\\urllib3\\connectionpool.py:1045: InsecureRequestWarning: Unverified HTTPS request is being made to host 'mimp.ro'. Adding certificate verification is strongly advised. See: https://urllib3.readthedocs.io/en/1.26.x/advanced-usage.html#ssl-warnings\n",
      "  warnings.warn(\n"
     ]
    },
    {
     "name": "stdout",
     "output_type": "stream",
     "text": [
      "{'Connection': 'Keep-Alive', 'Keep-Alive': 'timeout=5, max=100', 'content-type': 'text/html; charset=UTF-8', 'link': '<https://mimp.ro/>; rel=shortlink', 'etag': '\"5118-1710951904;gz\"', 'x-litespeed-cache': 'hit', 'content-encoding': 'gzip', 'vary': 'Accept-Encoding', 'content-length': '26825', 'date': 'Tue, 26 Mar 2024 14:19:53 GMT', 'content-security-policy': 'upgrade-insecure-requests;', 'alt-svc': 'h3=\":443\"; ma=2592000, h3-29=\":443\"; ma=2592000, h3-Q050=\":443\"; ma=2592000, h3-Q046=\":443\"; ma=2592000, h3-Q043=\":443\"; ma=2592000, quic=\":443\"; ma=2592000; v=\"43,46\"'}\n",
      "{\"connection\": [\"Connection\", \"Keep-Alive\"], \"keep-alive\": [\"Keep-Alive\", \"timeout=5, max=100\"], \"content-type\": [\"content-type\", \"text/html; charset=UTF-8\"], \"link\": [\"link\", \"<https://mimp.ro/>; rel=shortlink\"], \"etag\": [\"etag\", \"\\\"5118-1710951904;gz\\\"\"], \"x-litespeed-cache\": [\"x-litespeed-cache\", \"hit\"], \"content-encoding\": [\"content-encoding\", \"gzip\"], \"vary\": [\"vary\", \"Accept-Encoding\"], \"content-length\": [\"content-length\", \"26825\"], \"date\": [\"date\", \"Tue, 26 Mar 2024 14:19:53 GMT\"], \"content-security-policy\": [\"content-security-policy\", \"upgrade-insecure-requests;\"], \"alt-svc\": [\"alt-svc\", \"h3=\\\":443\\\"; ma=2592000, h3-29=\\\":443\\\"; ma=2592000, h3-Q050=\\\":443\\\"; ma=2592000, h3-Q046=\\\":443\\\"; ma=2592000, h3-Q043=\\\":443\\\"; ma=2592000, quic=\\\":443\\\"; ma=2592000; v=\\\"43,46\\\"\"]}\n"
     ]
    }
   ],
   "source": [
    "try:\n",
    "    while True:\n",
    "        ip_addr = generate_rand_ip()\n",
    "        if ip_addr not in ips_checked:\n",
    "            ips_checked.add(ip_addr)\n",
    "        else:\n",
    "            continue\n",
    "    #     ip_addr = '73.162.12.235'\n",
    "        if check_ip(ip_addr):\n",
    "            a, b = scan_ports(ip_addr, 2)\n",
    "            if a > 0:\n",
    "                for port in b:\n",
    "    #                 print(\"Reading port:\", port)\n",
    "                    json_obj = check_if_phue_bulb(ip_addr, port)\n",
    "#                     print(json_obj)\n",
    "                    if json_obj != \"Empty json object\":\n",
    "                        print(json_obj)\n",
    "                        rh = json.dumps(json_obj.__dict__['_store'])\n",
    "                        print(rh)\n",
    "                        if 'Hikvision'.lower() in rh.lower() or 'DVRDVS'.lower() in rh.lower():\n",
    "                            hikvision_camera_addr.add(ip_addr + \":\" + str(port))\n",
    "                        elif 'SonicWALL'.lower() in rh.lower():\n",
    "                            sonicWall_firewall_addr.add(ip_addr + \":\" + str(port))\n",
    "                        elif 'NETGEAR'.lower() in rh.lower():\n",
    "                            netgear_router_addr.add(ip_addr + \":\" + str(port))\n",
    "                        elif 'TR069'.lower() in rh.lower() or 'gSOAP'.lower() in rh.lower() or 'TR-069'.lower() in rh.lower():\n",
    "                            TR069_protocolDevice_addr.add(ip_addr + \":\" + str(port))\n",
    "                        elif 'lighttpd'.lower() in rh.lower():\n",
    "                            lighttpd_protocolDevice_addr.add(ip_addr + \":\" + str(port))\n",
    "                        elif 'HuaweiHomeGateway'.lower() in rh.lower():\n",
    "                            Huawei_router_addr.add(ip_addr + \":\" + str(port))\n",
    "                        elif 'kangle'.lower() in rh.lower():\n",
    "                            kangle_addr.add(ip_addr + \":\" + str(port))\n",
    "                        elif 'TP-LINK'.lower() in rh.lower():\n",
    "                            tplink_router_addr.add(ip_addr + \":\" + str(port))\n",
    "                        elif 'App-webs'.lower() in rh.lower():\n",
    "                            app_web_server_addr.add(ip_addr + \":\" + str(port))\n",
    "                    if 'name' in json_obj:\n",
    "                        if json_obj['name'] == 'Philips hue':\n",
    "                            print((\"*\" * 10) + 'Philips hue bulb is found.' + (\"*\" * 10))\n",
    "    #                 print()\n",
    "    #     else:\n",
    "    #         print(ip_addr, \"is in excluded ip list.\")\n",
    "    #     break\n",
    "except KeyboardInterrupt:\n",
    "    pass"
   ]
  },
  {
   "cell_type": "code",
   "execution_count": 14,
   "metadata": {},
   "outputs": [
    {
     "name": "stdout",
     "output_type": "stream",
     "text": [
      "Total unique IPs checked: 174684\n",
      "Total unique hikvision cameras found: 2\n",
      "Total unique sonicWall firewall found: 15\n",
      "Total unique netgear router found: 1\n",
      "Total unique TR069_protocolDevice found: 310\n",
      "Total unique lighttpd_protocolDevice found: 43\n",
      "Total unique Huawei_router found: 103\n",
      "Total unique kangle found: 0\n",
      "Total unique tplink_router found: 4\n",
      "Total unique app_web_server found: 10\n"
     ]
    }
   ],
   "source": [
    "print(\"Total unique IPs checked:\", len(ips_checked))\n",
    "print(\"Total unique hikvision cameras found:\", len(hikvision_camera_addr))\n",
    "print(\"Total unique sonicWall firewall found:\", len(sonicWall_firewall_addr))\n",
    "print(\"Total unique netgear router found:\", len(netgear_router_addr))\n",
    "print(\"Total unique TR069_protocolDevice found:\", len(TR069_protocolDevice_addr))\n",
    "print(\"Total unique lighttpd_protocolDevice found:\", len(lighttpd_protocolDevice_addr))\n",
    "print(\"Total unique Huawei_router found:\", len(Huawei_router_addr))\n",
    "print(\"Total unique kangle found:\", len(kangle_addr))\n",
    "print(\"Total unique tplink_router found:\", len(tplink_router_addr))\n",
    "print(\"Total unique app_web_server found:\", len(app_web_server_addr))"
   ]
  },
  {
   "cell_type": "code",
   "execution_count": 15,
   "metadata": {
    "scrolled": true
   },
   "outputs": [
    {
     "name": "stdout",
     "output_type": "stream",
     "text": [
      "{'65.35.209.134:80', '58.162.228.234:80'}\n",
      "{'68.132.199.74:80', '23.31.252.105:443', '75.147.201.173:80', '66.195.139.130:80', '207.109.58.115:80', '109.247.79.6:80', '86.62.172.158:80', '75.148.90.253:80', '207.109.58.115:443', '91.84.53.230:80', '98.112.144.122:80', '173.8.228.205:80', '216.23.194.170:80', '195.101.63.225:80', '193.248.210.66:80'}\n",
      "{'2.27.7.110:7547'}\n",
      "{'75.135.49.190:7547', '66.67.42.213:7547', '186.114.231.87:7547', '81.130.154.121:7547', '47.41.96.77:7547', '86.156.106.39:7547', '109.152.60.163:7547', '86.172.106.63:7547', '31.52.26.254:7547', '81.158.163.155:7547', '174.110.37.250:7547', '86.184.115.84:7547', '95.9.76.86:7547', '47.33.211.34:7547', '67.248.134.108:7547', '75.139.19.81:7547', '79.52.240.29:7547', '81.152.227.54:7547', '24.74.97.90:7547', '217.42.56.245:7547', '61.69.204.207:7547', '75.191.198.101:7547', '183.83.190.235:7547', '68.112.218.87:7547', '86.136.236.195:7547', '186.217.38.13:81', '47.40.191.44:7547', '172.248.39.105:7547', '87.58.102.192:7547', '97.88.202.223:7547', '45.58.83.106:7547', '86.147.79.155:7547', '116.87.146.192:7547', '81.152.100.83:7547', '96.32.226.234:7547', '68.112.208.131:7547', '75.81.7.167:7547', '109.152.4.214:7547', '79.159.33.242:7547', '86.190.42.160:7547', '83.100.117.39:80', '86.182.188.54:7547', '203.206.101.59:7547', '154.67.117.35:7547', '67.10.185.159:7547', '172.248.224.67:7547', '188.181.103.181:7547', '24.176.105.173:7547', '5.164.58.127:7547', '80.218.211.51:7547', '24.165.20.30:7547', '94.180.144.96:7547', '72.181.41.25:7547', '61.68.47.186:7547', '97.101.41.165:7547', '70.117.134.162:7547', '74.75.143.75:7547', '65.25.84.186:7547', '217.35.249.94:7547', '81.132.193.227:7547', '124.170.27.55:7547', '76.186.37.72:7547', '72.226.13.211:7547', '174.102.207.81:7547', '65.189.70.57:7547', '72.183.252.229:7547', '72.134.2.209:7547', '97.101.157.111:7547', '213.122.230.127:7547', '67.49.114.153:7547', '46.146.89.192:7547', '68.202.33.57:7547', '47.34.42.224:7547', '70.94.104.98:7547', '45.47.245.6:7547', '217.42.17.172:7547', '86.139.106.193:7547', '35.141.59.16:7547', '97.100.71.100:7547', '65.30.193.102:7547', '76.187.151.182:7547', '97.101.163.236:7547', '174.84.243.143:7547', '74.140.117.248:7547', '74.138.125.165:7547', '172.117.214.186:7547', '24.176.151.73:7547', '50.89.244.226:7547', '89.250.156.166:7547', '96.39.129.140:7547', '65.32.191.134:7547', '103.36.120.68:82', '142.197.75.196:7547', '66.68.42.136:7547', '128.234.45.34:7547', '49.205.139.236:7547', '86.190.126.99:7547', '47.38.18.16:7547', '217.39.212.7:7547', '96.40.120.208:7547', '86.184.6.182:7547', '177.54.232.48:7547', '24.74.73.122:7547', '74.128.211.110:7547', '172.114.221.71:7547', '69.204.41.18:7547', '71.15.92.48:7547', '86.130.229.63:7547', '86.138.61.89:7547', '172.74.201.179:7547', '5.254.181.219:7547', '89.173.198.4:7547', '69.144.237.225:7547', '94.180.151.160:7547', '81.159.71.229:7547', '68.186.170.156:7547', '86.139.87.3:7547', '77.30.13.142:7547', '94.180.29.216:7547', '125.24.154.153:9090', '75.138.45.137:7547', '86.144.28.28:7547', '46.158.239.149:7547', '183.255.167.219:7547', '187.108.118.97:7547', '45.46.96.169:7547', '96.59.36.33:7547', '86.190.189.21:7547', '31.54.102.5:7547', '178.141.94.68:7547', '95.125.16.117:7547', '189.130.42.109:7547', '109.169.218.157:7547', '47.36.97.224:7547', '217.44.130.98:7547', '47.234.236.52:7547', '23.240.37.214:7547', '47.24.5.80:7547', '220.240.236.51:7547', '128.240.212.87:10000', '24.196.35.152:7547', '85.101.125.174:7547', '67.48.31.205:7547', '96.32.212.183:7547', '98.150.254.124:7547', '202.168.17.128:7547', '5.164.168.189:7547', '66.66.105.125:7547', '86.138.145.85:7547', '109.153.61.187:7547', '92.252.166.93:7547', '86.156.187.224:7547', '75.133.18.29:7547', '71.12.231.216:7547', '81.143.199.230:7547', '109.151.89.109:7547', '72.176.84.109:7547', '109.152.116.239:7547', '197.11.180.165:7547', '86.131.169.186:7547', '45.46.84.97:7547', '86.146.250.43:7547', '189.130.32.208:7547', '86.138.224.125:7547', '72.176.29.120:7547', '86.143.159.127:7547', '86.128.189.152:7547', '74.128.226.196:7547', '31.54.224.100:7547', '142.197.154.248:7547', '47.32.237.29:7547', '45.50.39.45:7547', '46.147.43.34:7547', '66.67.64.16:7547', '71.80.212.111:7547', '188.167.111.97:7547', '71.11.229.96:7547', '123.243.97.204:7547', '86.154.5.219:7547', '86.175.157.23:7547', '86.155.23.65:7547', '81.156.142.13:7547', '86.146.129.168:7547', '86.176.154.128:7547', '47.224.70.67:7547', '5.166.103.239:7547', '24.180.167.206:7547', '74.76.169.41:7547', '67.8.238.168:7547', '24.181.130.7:7547', '24.247.222.248:7547', '71.74.2.108:7547', '86.190.178.209:7547', '119.42.97.118:7547', '75.134.216.63:7547', '86.141.98.237:7547', '65.190.42.104:7547', '173.92.13.120:7547', '96.28.7.33:7547', '66.214.12.216:7547', '95.78.206.243:7547', '188.48.175.218:7547', '178.83.75.190:7547', '86.176.249.177:7547', '107.13.44.218:7547', '24.151.72.236:7547', '187.202.174.181:7547', '201.77.71.97:7547', '71.10.123.213:7547', '86.185.144.64:7547', '60.241.151.242:7547', '74.129.8.165:7547', '174.84.137.61:7547', '24.231.253.189:7547', '77.123.47.246:7547', '71.90.181.49:7547', '74.140.79.148:7547', '5.80.251.163:7547', '104.175.34.111:7547', '108.185.110.179:7547', '97.81.221.200:7547', '98.4.72.174:7547', '81.102.113.96:82', '220.244.13.103:7547', '86.185.157.61:7547', '66.169.16.225:7547', '71.91.87.5:7547', '76.178.177.32:7547', '86.181.80.80:7547', '86.191.162.226:7547', '69.76.132.0:7547', '78.25.44.201:7547', '97.98.81.134:7547', '24.242.194.100:7547', '86.179.149.178:7547', '203.194.11.78:7547', '98.27.141.239:7547', '65.26.129.92:7547', '173.168.77.209:7547', '86.186.179.185:7547', '71.92.103.99:7547', '86.143.21.8:7547', '195.202.193.82:7547', '68.174.112.69:7547', '60.241.77.1:7547', '72.177.9.210:7547', '124.171.43.154:7547', '203.213.23.179:7547', '77.31.17.22:7547', '203.63.106.147:7547', '87.114.239.91:7547', '86.186.55.210:7547', '24.207.147.131:7547', '86.156.115.214:7547', '86.130.90.179:7547', '67.248.146.120:7547', '97.100.47.246:7547', '125.254.44.108:7547', '76.88.100.109:7547', '81.157.11.59:7547', '70.93.133.50:7547', '105.156.51.39:7547', '188.234.3.37:7547', '70.92.123.251:7547', '104.32.203.107:7547', '187.202.255.190:7547', '81.151.151.43:7547', '24.90.254.12:7547', '71.14.131.51:7547', '68.203.63.151:7547', '172.221.19.57:7547', '31.54.105.156:7547', '174.108.108.176:7547', '114.220.29.64:7547', '75.137.154.190:7547', '81.129.148.168:7547', '45.50.20.153:7547', '174.86.221.210:7547', '86.161.164.146:7547', '76.177.221.153:7547', '217.42.3.34:7547', '24.198.109.156:7547', '76.181.57.188:7547', '84.74.149.97:7547', '86.180.226.76:7547', '24.171.41.60:7547', '65.188.237.143:7547', '47.6.137.236:7547', '66.108.159.207:7547', '47.7.100.141:7547', '76.170.41.194:7547', '71.8.3.183:7547', '71.82.151.83:7547', '84.197.249.89:8000', '220.235.213.236:7547', '27.32.93.95:7547', '86.133.150.155:7547', '206.248.51.116:7547', '75.85.123.107:7547', '70.119.94.79:7547', '79.150.191.216:7547', '59.29.81.51:8080', '86.163.97.157:7547', '86.182.64.6:7547', '86.173.168.84:7547', '5.166.4.242:7547', '72.128.105.57:7547', '86.151.168.100:7547', '47.41.78.76:7547', '75.129.177.73:7547'}\n",
      "{'140.237.31.55:8088', '172.100.145.161:80', '193.238.175.141:83', '122.241.2.22:8088', '75.161.89.2:7547', '205.237.36.108:8080', '184.95.9.145:88', '170.81.250.157:8081', '125.130.83.131:80', '50.65.45.90:80', '113.10.2.15:80', '151.253.81.131:80', '85.115.221.20:80', '220.83.52.246:80', '97.120.82.3:7547', '42.98.14.34:8000', '50.198.148.33:80', '101.141.21.83:8080', '220.135.18.239:81', '184.97.171.42:7547', '64.187.150.118:80', '166.164.148.227:80', '75.164.98.57:7547', '174.24.90.176:7547', '123.97.129.235:8088', '97.127.255.148:7547', '125.130.83.131:8088', '80.217.153.178:8080', '140.206.43.74:8000', '177.23.22.121:80', '118.167.153.172:1080', '184.102.74.199:7547', '139.138.73.75:8080', '67.1.209.118:7547', '91.220.73.72:80', '106.42.253.219:8088', '67.2.175.159:7547', '109.215.11.220:88', '138.19.10.70:80', '206.63.234.213:8080', '71.212.124.106:7547', '118.167.153.172:9999', '1.10.190.15:81'}\n",
      "{'125.239.54.131:8081', '101.78.82.230:7547', '31.155.80.215:8081', '160.86.206.21:7547', '179.52.86.179:7547', '161.8.118.199:7547', '42.60.74.47:7547', '149.140.122.246:8081', '178.87.234.57:7547', '179.53.250.238:7547', '177.106.225.244:7547', '139.194.96.229:7547', '31.155.216.213:8081', '102.158.237.1:7547', '86.153.159.31:8081', '119.10.188.48:7547', '87.196.140.31:7547', '179.53.48.42:7547', '152.0.45.233:7547', '109.57.129.109:7547', '197.2.196.10:7547', '210.231.196.80:7547', '188.3.189.154:8081', '31.177.140.172:8081', '176.217.73.21:8081', '92.202.128.83:7547', '190.221.92.48:7547', '148.101.233.216:7547', '202.133.208.151:7547', '115.66.3.178:7547', '223.132.177.48:7547', '218.215.87.152:7547', '139.178.10.144:7547', '149.140.129.70:8081', '160.86.205.190:7547', '188.3.96.108:8081', '147.192.56.159:7547', '51.218.181.112:7547', '159.0.83.132:7547', '212.133.193.157:8081', '51.235.35.91:7547', '187.232.226.178:7547', '93.102.36.109:7547', '77.232.106.95:7547', '187.188.33.236:7547', '179.104.2.36:7547', '139.218.13.130:7547', '181.117.215.187:7547', '122.57.102.13:8081', '123.2.92.169:7547', '222.153.142.145:8081', '124.241.149.29:7547', '109.99.174.81:8081', '46.239.216.196:7547', '222.152.30.68:8081', '42.60.132.76:7547', '210.231.202.191:7547', '37.105.221.174:7547', '191.54.126.215:7547', '124.253.190.177:7547', '187.190.245.137:7547', '148.0.210.93:7547', '39.111.82.190:7547', '148.101.89.21:7547', '176.28.236.80:7547', '125.237.34.59:8081', '149.140.110.0:8081', '206.214.31.7:7547', '37.105.156.173:7547', '139.194.181.39:7547', '189.15.129.67:7547', '2.89.85.212:7547', '86.135.172.95:8081', '181.238.194.104:7547', '42.60.67.113:7547', '94.49.212.209:7547', '189.15.67.131:7547', '177.106.180.169:7547', '186.123.113.46:7547', '78.172.53.214:8081', '94.96.30.38:7547', '86.134.234.248:8081', '178.87.134.248:7547', '133.114.131.93:7547', '122.58.45.20:8081', '177.106.15.183:7547', '153.92.158.78:7547', '150.249.44.25:7547', '179.52.165.206:7547', '180.200.124.155:7547', '178.77.128.162:7547', '186.123.167.161:7547', '213.233.251.18:7547', '122.57.16.134:7547', '139.0.33.173:7547', '125.238.94.119:8081', '186.210.172.236:7547', '112.141.221.124:7547', '115.188.81.52:8081', '37.104.216.234:7547', '105.247.112.125:7547', '210.50.224.171:7547', '109.152.53.186:8081'}\n",
      "set()\n",
      "{'93.95.242.10:80', '31.47.126.37:80', '185.240.137.95:8088', '168.196.5.218:8080'}\n",
      "{'94.211.142.164:80', '75.109.123.68:80', '1.54.180.200:80', '83.82.150.253:81', '42.58.122.152:81', '130.204.230.186:81', '88.147.124.213:80', '124.235.206.28:80', '130.204.230.186:80', '83.82.150.253:80'}\n"
     ]
    }
   ],
   "source": [
    "print(hikvision_camera_addr)\n",
    "print(sonicWall_firewall_addr)\n",
    "print(netgear_router_addr)\n",
    "print(TR069_protocolDevice_addr)\n",
    "print(lighttpd_protocolDevice_addr)\n",
    "print(Huawei_router_addr)\n",
    "print(kangle_addr)\n",
    "print(tplink_router_addr)\n",
    "print(app_web_server_addr)"
   ]
  },
  {
   "cell_type": "code",
   "execution_count": 16,
   "metadata": {},
   "outputs": [],
   "source": [
    "storeData(ips_checked, \"ips_checked.dat\")\n",
    "storeData(hikvision_camera_addr, \"hikvision_camera_addr.dat\")\n",
    "storeData(sonicWall_firewall_addr, \"sonicWall_firewall_addr.dat\")\n",
    "storeData(netgear_router_addr, \"netgear_router_addr.dat\")\n",
    "storeData(TR069_protocolDevice_addr, \"TR069_protocolDevice_addr.dat\")\n",
    "storeData(lighttpd_protocolDevice_addr, \"lighttpd_protocolDevice_addr.dat\")\n",
    "storeData(Huawei_router_addr, \"Huawei_router_addr.dat\")\n",
    "storeData(kangle_addr, \"kangle_addr.dat\")\n",
    "storeData(tplink_router_addr, \"tplink_router_addr.dat\")\n",
    "storeData(app_web_server_addr, \"app_web_server_addr.dat\")"
   ]
  },
  {
   "cell_type": "code",
   "execution_count": 18,
   "metadata": {
    "scrolled": true
   },
   "outputs": [
    {
     "name": "stdout",
     "output_type": "stream",
     "text": [
      "defaultdict(<function <lambda> at 0x000002351A2077F0>, {'80': 38, '443': 2, '7547': 392, '81': 6, '82': 2, '9090': 1, '10000': 1, '8000': 3, '8080': 7, '8088': 6, '83': 1, '88': 2, '8081': 25, '1080': 1, '9999': 1})\n"
     ]
    }
   ],
   "source": [
    "from collections import defaultdict\n",
    "\n",
    "\n",
    "port_dict = defaultdict(lambda : 0)\n",
    "\n",
    "\n",
    "for i in hikvision_camera_addr:\n",
    "    port_dict[i.split(':')[1]] += 1\n",
    "for i in sonicWall_firewall_addr:\n",
    "    port_dict[i.split(':')[1]] += 1\n",
    "for i in netgear_router_addr:\n",
    "    port_dict[i.split(':')[1]] += 1\n",
    "for i in TR069_protocolDevice_addr:\n",
    "    port_dict[i.split(':')[1]] += 1\n",
    "for i in lighttpd_protocolDevice_addr:\n",
    "    port_dict[i.split(':')[1]] += 1\n",
    "for i in Huawei_router_addr:\n",
    "    port_dict[i.split(':')[1]] += 1\n",
    "for i in kangle_addr:\n",
    "    port_dict[i.split(':')[1]] += 1\n",
    "for i in tplink_router_addr:\n",
    "    port_dict[i.split(':')[1]] += 1\n",
    "for i in app_web_server_addr:\n",
    "    port_dict[i.split(':')[1]] += 1\n",
    "\n",
    "print(port_dict)"
   ]
  },
  {
   "cell_type": "code",
   "execution_count": null,
   "metadata": {
    "collapsed": true
   },
   "outputs": [],
   "source": []
  }
 ],
 "metadata": {
  "kernelspec": {
   "display_name": "Python 3",
   "language": "python",
   "name": "python3"
  },
  "language_info": {
   "codemirror_mode": {
    "name": "ipython",
    "version": 3
   },
   "file_extension": ".py",
   "mimetype": "text/x-python",
   "name": "python",
   "nbconvert_exporter": "python",
   "pygments_lexer": "ipython3",
   "version": "3.10.11"
  }
 },
 "nbformat": 4,
 "nbformat_minor": 2
}
